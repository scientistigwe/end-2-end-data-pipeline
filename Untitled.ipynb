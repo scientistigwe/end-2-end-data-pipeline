{
 "cells": [
  {
   "cell_type": "code",
   "execution_count": 1,
   "id": "0cf0ace0-860d-4df6-aba2-e616dfd9ed77",
   "metadata": {},
   "outputs": [
    {
     "name": "stdout",
     "output_type": "stream",
     "text": [
      "Directory structure created at: backend/core/messaging\n"
     ]
    }
   ],
   "source": [
    "import os\n",
    "\n",
    "def create_directory_structure(base_path):\n",
    "    structure = {\n",
    "        \"base\": [\"__init__.py\", \"enums.py\", \"context.py\", \"metrics.py\", \"messages.py\"],\n",
    "        \"contexts\": [\n",
    "            \"__init__.py\",\n",
    "            \"analytics.py\",\n",
    "            \"quality.py\",\n",
    "            \"insight.py\",\n",
    "            \"decision.py\",\n",
    "            \"recommendation.py\",\n",
    "            \"report.py\",\n",
    "            \"monitoring.py\",\n",
    "            \"pipeline.py\",\n",
    "            \"staging.py\",\n",
    "        ],\n",
    "        \"routing\": [\"__init__.py\", \"identifiers.py\", \"metadata.py\"],\n",
    "        \"types\": [\n",
    "            \"__init__.py\",\n",
    "            \"analytics.py\",\n",
    "            \"quality.py\",\n",
    "            \"insight.py\",\n",
    "            \"decision.py\",\n",
    "            \"recommendation.py\",\n",
    "            \"report.py\",\n",
    "            \"monitoring.py\",\n",
    "            \"pipeline.py\",\n",
    "            \"staging.py\",\n",
    "        ],\n",
    "    }\n",
    "\n",
    "    # Create the base messaging directory\n",
    "    os.makedirs(base_path, exist_ok=True)\n",
    "    open(os.path.join(base_path, \"__init__.py\"), \"w\").close()\n",
    "\n",
    "    # Iterate through the structure dictionary and create subdirectories and files\n",
    "    for folder, files in structure.items():\n",
    "        folder_path = os.path.join(base_path, folder)\n",
    "        os.makedirs(folder_path, exist_ok=True)\n",
    "        for file in files:\n",
    "            open(os.path.join(folder_path, file), \"w\").close()\n",
    "\n",
    "if __name__ == \"__main__\":\n",
    "    base_directory = \"backend/core/messaging\"\n",
    "    create_directory_structure(base_directory)\n",
    "    print(f\"Directory structure created at: {base_directory}\")"
   ]
  },
  {
   "cell_type": "code",
   "execution_count": null,
   "id": "51bfd54f-5c9f-48f7-a30a-a341d8207cb1",
   "metadata": {},
   "outputs": [],
   "source": []
  }
 ],
 "metadata": {
  "kernelspec": {
   "display_name": "Python 3 (ipykernel)",
   "language": "python",
   "name": "python3"
  },
  "language_info": {
   "codemirror_mode": {
    "name": "ipython",
    "version": 3
   },
   "file_extension": ".py",
   "mimetype": "text/x-python",
   "name": "python",
   "nbconvert_exporter": "python",
   "pygments_lexer": "ipython3",
   "version": "3.12.7"
  }
 },
 "nbformat": 4,
 "nbformat_minor": 5
}
